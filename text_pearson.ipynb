{
 "cells": [
  {
   "cell_type": "code",
   "execution_count": 1,
   "metadata": {},
   "outputs": [
    {
     "name": "stderr",
     "output_type": "stream",
     "text": [
      "c:\\Users\\User\\SC4020 Project 1\\venv\\Lib\\site-packages\\tqdm\\auto.py:21: TqdmWarning: IProgress not found. Please update jupyter and ipywidgets. See https://ipywidgets.readthedocs.io/en/stable/user_install.html\n",
      "  from .autonotebook import tqdm as notebook_tqdm\n"
     ]
    }
   ],
   "source": [
    "import pandas as pd\n",
    "from sentence_transformers import SentenceTransformer\n",
    "from sklearn.metrics.pairwise import cosine_similarity\n",
    "from scipy.stats import pearsonr, spearmanr\n",
    "import numpy as np"
   ]
  },
  {
   "cell_type": "code",
   "execution_count": 2,
   "metadata": {},
   "outputs": [
    {
     "name": "stderr",
     "output_type": "stream",
     "text": [
      "<>:1: SyntaxWarning: invalid escape sequence '\\h'\n",
      "<>:1: SyntaxWarning: invalid escape sequence '\\h'\n",
      "C:\\Users\\User\\AppData\\Local\\Temp\\ipykernel_38772\\3814104705.py:1: SyntaxWarning: invalid escape sequence '\\h'\n",
      "  df = pd.read_csv(\"data\\huggingface-2025-10-14.csv\")\n",
      "C:\\Users\\User\\AppData\\Local\\Temp\\ipykernel_38772\\3814104705.py:1: DtypeWarning: Columns (1,2) have mixed types. Specify dtype option on import or set low_memory=False.\n",
      "  df = pd.read_csv(\"data\\huggingface-2025-10-14.csv\")\n"
     ]
    },
    {
     "data": {
      "text/html": [
       "<div>\n",
       "<style scoped>\n",
       "    .dataframe tbody tr th:only-of-type {\n",
       "        vertical-align: middle;\n",
       "    }\n",
       "\n",
       "    .dataframe tbody tr th {\n",
       "        vertical-align: top;\n",
       "    }\n",
       "\n",
       "    .dataframe thead th {\n",
       "        text-align: right;\n",
       "    }\n",
       "</style>\n",
       "<table border=\"1\" class=\"dataframe\">\n",
       "  <thead>\n",
       "    <tr style=\"text-align: right;\">\n",
       "      <th></th>\n",
       "      <th>score</th>\n",
       "      <th>sentence1</th>\n",
       "      <th>sentence2</th>\n",
       "      <th>score_binary</th>\n",
       "    </tr>\n",
       "  </thead>\n",
       "  <tbody>\n",
       "    <tr>\n",
       "      <th>0</th>\n",
       "      <td>5.00</td>\n",
       "      <td>A man with a hard hat is dancing.</td>\n",
       "      <td>A man wearing a hard hat is dancing.</td>\n",
       "      <td>1.0</td>\n",
       "    </tr>\n",
       "    <tr>\n",
       "      <th>1</th>\n",
       "      <td>4.75</td>\n",
       "      <td>A young child is riding a horse.</td>\n",
       "      <td>A child is riding a horse.</td>\n",
       "      <td>1.0</td>\n",
       "    </tr>\n",
       "    <tr>\n",
       "      <th>2</th>\n",
       "      <td>5.00</td>\n",
       "      <td>A man is feeding a mouse to a snake.</td>\n",
       "      <td>The man is feeding a mouse to the snake.</td>\n",
       "      <td>1.0</td>\n",
       "    </tr>\n",
       "    <tr>\n",
       "      <th>3</th>\n",
       "      <td>2.40</td>\n",
       "      <td>A woman is playing the guitar.</td>\n",
       "      <td>A man is playing guitar.</td>\n",
       "      <td>0.0</td>\n",
       "    </tr>\n",
       "    <tr>\n",
       "      <th>4</th>\n",
       "      <td>2.75</td>\n",
       "      <td>A woman is playing the flute.</td>\n",
       "      <td>A man is playing a flute.</td>\n",
       "      <td>0.0</td>\n",
       "    </tr>\n",
       "  </tbody>\n",
       "</table>\n",
       "</div>"
      ],
      "text/plain": [
       "   score                             sentence1  \\\n",
       "0   5.00     A man with a hard hat is dancing.   \n",
       "1   4.75      A young child is riding a horse.   \n",
       "2   5.00  A man is feeding a mouse to a snake.   \n",
       "3   2.40        A woman is playing the guitar.   \n",
       "4   2.75         A woman is playing the flute.   \n",
       "\n",
       "                                  sentence2  score_binary  \n",
       "0      A man wearing a hard hat is dancing.           1.0  \n",
       "1                A child is riding a horse.           1.0  \n",
       "2  The man is feeding a mouse to the snake.           1.0  \n",
       "3                  A man is playing guitar.           0.0  \n",
       "4                 A man is playing a flute.           0.0  "
      ]
     },
     "execution_count": 2,
     "metadata": {},
     "output_type": "execute_result"
    }
   ],
   "source": [
    "df = pd.read_csv(\"data\\huggingface-2025-10-14.csv\")\n",
    "df.head()"
   ]
  },
  {
   "cell_type": "code",
   "execution_count": 12,
   "metadata": {},
   "outputs": [],
   "source": [
    "df = df[:1500]"
   ]
  },
  {
   "cell_type": "code",
   "execution_count": 3,
   "metadata": {},
   "outputs": [],
   "source": [
    "def jaccard_similarity(sentence1, sentence2):\n",
    "    set1 = set(sentence1.lower().split())\n",
    "    set2 = set(sentence2.lower().split())\n",
    "    intersection = len(set1.intersection(set2))\n",
    "    union = len(set1.union(set2))\n",
    "    return intersection / union if union != 0 else 0"
   ]
  },
  {
   "cell_type": "code",
   "execution_count": 4,
   "metadata": {},
   "outputs": [],
   "source": [
    "# --- Load model ---\n",
    "model = SentenceTransformer('all-MiniLM-L6-v2')"
   ]
  },
  {
   "cell_type": "code",
   "execution_count": 13,
   "metadata": {},
   "outputs": [
    {
     "name": "stdout",
     "output_type": "stream",
     "text": [
      "Processed 100/1500 sentence pairs...\n",
      "Processed 200/1500 sentence pairs...\n",
      "Processed 300/1500 sentence pairs...\n",
      "Processed 400/1500 sentence pairs...\n",
      "Processed 500/1500 sentence pairs...\n",
      "Processed 600/1500 sentence pairs...\n",
      "Processed 700/1500 sentence pairs...\n",
      "Processed 800/1500 sentence pairs...\n",
      "Processed 900/1500 sentence pairs...\n",
      "Processed 1000/1500 sentence pairs...\n",
      "Processed 1100/1500 sentence pairs...\n",
      "Processed 1200/1500 sentence pairs...\n",
      "Processed 1300/1500 sentence pairs...\n",
      "Processed 1400/1500 sentence pairs...\n",
      "Processed 1500/1500 sentence pairs...\n",
      "\n",
      "=== Correlation Results ===\n",
      "✅ Cosine  - Pearson: 0.8696 | Spearman: 0.8672\n",
      "✅ Jaccard - Pearson: 0.5960 | Spearman: 0.6017\n",
      "\n",
      "Sample predictions:\n",
      "                              sentence1  \\\n",
      "0     A man with a hard hat is dancing.   \n",
      "1      A young child is riding a horse.   \n",
      "2  A man is feeding a mouse to a snake.   \n",
      "3        A woman is playing the guitar.   \n",
      "4         A woman is playing the flute.   \n",
      "\n",
      "                                  sentence2  score  cosine_score_scaled  \\\n",
      "0      A man wearing a hard hat is dancing.   5.00             4.966858   \n",
      "1                A child is riding a horse.   4.75             4.769810   \n",
      "2  The man is feeding a mouse to the snake.   5.00             4.900507   \n",
      "3                  A man is playing guitar.   2.40             3.235415   \n",
      "4                 A man is playing a flute.   2.75             3.731137   \n",
      "\n",
      "   jaccard_score_scaled  \n",
      "0              3.750000  \n",
      "1              4.166667  \n",
      "2              4.375000  \n",
      "3              2.857143  \n",
      "4              2.857143  \n"
     ]
    },
    {
     "name": "stderr",
     "output_type": "stream",
     "text": [
      "C:\\Users\\User\\AppData\\Local\\Temp\\ipykernel_38772\\3383960630.py:23: SettingWithCopyWarning: \n",
      "A value is trying to be set on a copy of a slice from a DataFrame.\n",
      "Try using .loc[row_indexer,col_indexer] = value instead\n",
      "\n",
      "See the caveats in the documentation: https://pandas.pydata.org/pandas-docs/stable/user_guide/indexing.html#returning-a-view-versus-a-copy\n",
      "  df['cosine_score'] = cosine_scores\n",
      "C:\\Users\\User\\AppData\\Local\\Temp\\ipykernel_38772\\3383960630.py:24: SettingWithCopyWarning: \n",
      "A value is trying to be set on a copy of a slice from a DataFrame.\n",
      "Try using .loc[row_indexer,col_indexer] = value instead\n",
      "\n",
      "See the caveats in the documentation: https://pandas.pydata.org/pandas-docs/stable/user_guide/indexing.html#returning-a-view-versus-a-copy\n",
      "  df['cosine_score_scaled'] = df['cosine_score'] * 5  # Scale to match gold score scale\n",
      "C:\\Users\\User\\AppData\\Local\\Temp\\ipykernel_38772\\3383960630.py:25: SettingWithCopyWarning: \n",
      "A value is trying to be set on a copy of a slice from a DataFrame.\n",
      "Try using .loc[row_indexer,col_indexer] = value instead\n",
      "\n",
      "See the caveats in the documentation: https://pandas.pydata.org/pandas-docs/stable/user_guide/indexing.html#returning-a-view-versus-a-copy\n",
      "  df['jaccard_score'] = jaccard_scores\n",
      "C:\\Users\\User\\AppData\\Local\\Temp\\ipykernel_38772\\3383960630.py:26: SettingWithCopyWarning: \n",
      "A value is trying to be set on a copy of a slice from a DataFrame.\n",
      "Try using .loc[row_indexer,col_indexer] = value instead\n",
      "\n",
      "See the caveats in the documentation: https://pandas.pydata.org/pandas-docs/stable/user_guide/indexing.html#returning-a-view-versus-a-copy\n",
      "  df['jaccard_score_scaled'] = df['jaccard_score'] * 5\n"
     ]
    }
   ],
   "source": [
    "# --- Prepare storage ---\n",
    "cosine_scores = []\n",
    "jaccard_scores = []\n",
    "\n",
    "# --- Loop through pairs ---\n",
    "total_pairs = len(df)\n",
    "for i, (s1, s2) in enumerate(zip(df['sentence1'], df['sentence2']), start=1):\n",
    "    # Encode & compute cosine similarity\n",
    "    emb1 = model.encode([s1], normalize_embeddings=True)\n",
    "    emb2 = model.encode([s2], normalize_embeddings=True)\n",
    "    sim_cos = cosine_similarity(emb1, emb2)[0][0]\n",
    "    cosine_scores.append(sim_cos)\n",
    "\n",
    "    # Compute Jaccard similarity\n",
    "    sim_jaccard = jaccard_similarity(s1, s2)\n",
    "    jaccard_scores.append(sim_jaccard)\n",
    "\n",
    "    # Print progress every 100 iterations or at the end\n",
    "    if i % 100 == 0 or i == total_pairs:\n",
    "        print(f\"Processed {i}/{total_pairs} sentence pairs...\")\n",
    "\n",
    "# --- Store results in dataframe ---\n",
    "df['cosine_score'] = cosine_scores\n",
    "df['cosine_score_scaled'] = df['cosine_score'] * 5  # Scale to match gold score scale\n",
    "df['jaccard_score'] = jaccard_scores\n",
    "df['jaccard_score_scaled'] = df['jaccard_score'] * 5\n",
    "\n",
    "# --- Prepare arrays ---\n",
    "gold_scores = df['score'].values\n",
    "pred_cosine = df['cosine_score_scaled'].values\n",
    "pred_jaccard = df['jaccard_score_scaled'].values\n",
    "\n",
    "# --- Compute correlations ---\n",
    "pearson_cosine, _ = pearsonr(gold_scores, pred_cosine)\n",
    "spearman_cosine, _ = spearmanr(gold_scores, pred_cosine)\n",
    "\n",
    "pearson_jaccard, _ = pearsonr(gold_scores, pred_jaccard)\n",
    "spearman_jaccard, _ = spearmanr(gold_scores, pred_jaccard)\n",
    "\n",
    "# --- Print results ---\n",
    "print(\"\\n=== Correlation Results ===\")\n",
    "print(f\"✅ Cosine  - Pearson: {pearson_cosine:.4f} | Spearman: {spearman_cosine:.4f}\")\n",
    "print(f\"✅ Jaccard - Pearson: {pearson_jaccard:.4f} | Spearman: {spearman_jaccard:.4f}\")\n",
    "\n",
    "# --- Optional: quick inspection ---\n",
    "print(\"\\nSample predictions:\")\n",
    "print(df[['sentence1', 'sentence2', 'score', 'cosine_score_scaled', 'jaccard_score_scaled']].head())"
   ]
  }
 ],
 "metadata": {
  "kernelspec": {
   "display_name": "venv",
   "language": "python",
   "name": "python3"
  },
  "language_info": {
   "codemirror_mode": {
    "name": "ipython",
    "version": 3
   },
   "file_extension": ".py",
   "mimetype": "text/x-python",
   "name": "python",
   "nbconvert_exporter": "python",
   "pygments_lexer": "ipython3",
   "version": "3.12.6"
  }
 },
 "nbformat": 4,
 "nbformat_minor": 2
}
